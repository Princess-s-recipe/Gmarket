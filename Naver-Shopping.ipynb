{
 "cells": [
  {
   "cell_type": "code",
   "execution_count": null,
   "id": "4ea5e453",
   "metadata": {},
   "outputs": [],
   "source": [
    "import time\n",
    "from bs4 import BeautifulSoup\n",
    "from selenium import webdriver\n",
    "\n",
    "def crawl_pages(url_template):\n",
    "    chrome_driver_path = \"./driver\"\n",
    "    driver = webdriver.Chrome(chrome_driver_path)\n",
    "\n",
    "    page = 1\n",
    "    while True:\n",
    "        url = url_template.format(page=page)\n",
    "        driver.get(url)\n",
    "        \n",
    "        while True:\n",
    "        \n",
    "            # Scroll to the bottom of the page\n",
    "            last_height = driver.execute_script(\"return document.body.scrollHeight\")\n",
    "            driver.execute_script(\"window.scrollTo(0, document.body.scrollHeight);\")\n",
    "            time.sleep(1)  # Wait for the page to load\n",
    "            new_height = driver.execute_script(\"return document.body.scrollHeight\")\n",
    "            \n",
    "            # Check if the page has finished loading\n",
    "            if new_height == last_height:\n",
    "                break\n",
    "                \n",
    "        html = driver.page_source\n",
    "        soup = BeautifulSoup(html, \"html.parser\")\n",
    "        \n",
    "        # Titles\n",
    "        titles = soup.select(\"div.product_title__Mmw2K > a\")\n",
    "        \n",
    "        # Prices\n",
    "        prices = soup.select(\"div.product_price_area__eTg7I>strong.product_price__52oO9>span.price_price__LEGN7>span.price_num__S2p_v\")\n",
    "        \n",
    "        for title, price in zip(titles, prices):\n",
    "            print(f\"{title.text} - {price.text}\")\n",
    "        \n",
    "        # 다음 버튼이 있는지 확인하고 없으면 마지막 페이지이니 break\n",
    "        next_button = soup.select_one(\"a.pagination_next__pZuC6\")   \n",
    "        if not next_button:\n",
    "            break\n",
    "            \n",
    "        page += 1\n",
    "\n",
    "    #driver.quit()\n",
    "\n",
    "# Example usage\n",
    "#url_template = 'https://search.shopping.naver.com/search/all?query=%EB%A7%A5%EB%B6%81&bt=2&frm=NVSCPRO&pagingIndex={page}'\n",
    "# 페이지가 너무 많아서 마지막 페이지까지 잘 동작하는지 확인하기 위한 1만~2만원 사이의 브랜드는 바보사랑인 지압슬리퍼로 설정\n",
    "url_template = 'https://search.shopping.naver.com/search/all?brand=233310&frm=NVSHBRD&maxPrice=20000&minPrice=10000&origQuery=%EC%A7%80%EC%95%95%20%EC%8A%AC%EB%A6%AC%ED%8D%BC&pagingIndex={page}&pagingSize=40&productSet=total&query=%EC%A7%80%EC%95%95%20%EC%8A%AC%EB%A6%AC%ED%8D%BC&sort=rel&timestamp=&viewType=list'\n",
    "crawl_pages(url_template)"
   ]
  }
 ],
 "metadata": {
  "kernelspec": {
   "display_name": "Python 3 (ipykernel)",
   "language": "python",
   "name": "python3"
  },
  "language_info": {
   "codemirror_mode": {
    "name": "ipython",
    "version": 3
   },
   "file_extension": ".py",
   "mimetype": "text/x-python",
   "name": "python",
   "nbconvert_exporter": "python",
   "pygments_lexer": "ipython3",
   "version": "3.9.7"
  }
 },
 "nbformat": 4,
 "nbformat_minor": 5
}
